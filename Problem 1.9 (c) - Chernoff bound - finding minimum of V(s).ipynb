{
 "cells": [
  {
   "cell_type": "markdown",
   "metadata": {
    "deletable": true,
    "editable": true
   },
   "source": [
    "Minimize $V(s)=e^{-s\\alpha}\\frac{1}{2}(1+e^s)$ for fixed $\\alpha$, where $0 < \\alpha < 1$."
   ]
  },
  {
   "cell_type": "markdown",
   "metadata": {
    "deletable": true,
    "editable": true
   },
   "source": [
    "$$\n",
    "\\begin{align}\n",
    "V(s) && = && e^{-s\\alpha}\\frac{1}{2}(1+e^s) \\\\\n",
    "     && = && \\frac{1}{2}\\frac{1 + e^s}{e^{s\\alpha}} \\\\\n",
    "     && = && \\frac{1}{2}(\\frac{1}{e^{s\\alpha}}+\\frac{e^s}{e^{s\\alpha}})\n",
    "\\end{align}\n",
    "$$"
   ]
  },
  {
   "cell_type": "markdown",
   "metadata": {
    "collapsed": true,
    "deletable": true,
    "editable": true
   },
   "source": [
    "Therefore\n",
    "\n",
    "$$\n",
    "\\begin{align}\n",
    "V'(s) && = &&\n",
    "  \\frac{1}{2}(\n",
    "    \\frac{-ln(e^\\alpha)e^{s\\alpha}}{e^{2s\\alpha}} +\n",
    "    \\frac{e^{s}e^{s\\alpha} - e^{s}ln(e^{\\alpha})e^{s\\alpha}}{e^{2s\\alpha}}\n",
    "  ) \\\\\n",
    "      && = && \n",
    "  \\frac{1}{2}(\n",
    "    \\frac{-\\alpha e^{s\\alpha}}{e^{2s\\alpha}} +\n",
    "    \\frac{e^{s+s\\alpha}-\\alpha e^{s+s\\alpha}}{e^{2s\\alpha}}\n",
    "  ) \\\\\n",
    "      && = &&\n",
    "  \\frac{1}{2}(\n",
    "    \\frac{-\\alpha}{e^{s\\alpha}} +\n",
    "    \\frac{(1-\\alpha)e^{s+s\\alpha}}{e^{2s\\alpha}}\n",
    "  ) \\\\\n",
    "      && = &&\n",
    "  \\frac{1}{2}(\n",
    "    \\frac{-\\alpha}{e^{s\\alpha}} +\n",
    "    \\frac{(1-\\alpha)e^s}{e^{s\\alpha}}\n",
    "  )\n",
    "\\end{align}\n",
    "$$\n"
   ]
  },
  {
   "cell_type": "markdown",
   "metadata": {
    "deletable": true,
    "editable": true
   },
   "source": [
    "We want $V'(s) = 0$, so\n",
    "$$\n",
    "\\begin{align}\n",
    "0 && = &&\n",
    "  \\frac{1}{2}(\n",
    "    \\frac{-\\alpha}{e^{s\\alpha}} +\n",
    "    \\frac{(1-\\alpha)e^s}{e^{s\\alpha}}\n",
    "  ) \\\\\n",
    "0 && = &&\n",
    "    \\frac{-\\alpha}{e^{s\\alpha}} +\n",
    "    \\frac{(1-\\alpha)e^s}{e^{s\\alpha}} \\\\\n",
    "0 && = && -\\alpha + (1-\\alpha)e^s \\\\\n",
    "\\alpha && = && (1-\\alpha)e^s \\\\\n",
    "\\frac{\\alpha}{1-\\alpha} && = && e^s \\\\\n",
    "ln(\\frac{\\alpha}{1-\\alpha}) && = && s\n",
    "\\end{align}\n",
    "$$"
   ]
  },
  {
   "cell_type": "markdown",
   "metadata": {
    "deletable": true,
    "editable": true
   },
   "source": [
    "We also need to prove that $V''(s)$ is positive for all $s \\in \\mathbb{R}$:\n",
    "\n",
    "$$\n",
    "\\begin{align}\n",
    "V''(s)  && = &&\n",
    "    \\frac{1}{2}(\n",
    "        \\frac{-\\alpha \\cdot -ln(e^\\alpha)e^{s\\alpha}}{e^{2s\\alpha}} +\n",
    "        (1-\\alpha)\\frac{e^{s}e^{s\\alpha}-ln(e^\\alpha)e^{s\\alpha}e^s}{e^{2s\\alpha}}\n",
    "    ) \\\\\n",
    "        && = &&\n",
    "    \\frac{1}{2}(\n",
    "        \\frac{\\alpha^{2} e^{s\\alpha}}{e^{2s\\alpha}} +\n",
    "        (1-\\alpha)\\frac{(1-\\alpha)e^{s+s\\alpha}}{e^{2s\\alpha}}\n",
    "    ) \\\\\n",
    "        && = &&\n",
    "    \\frac{1}{2}(\n",
    "        \\frac{\\alpha^2}{e^{s\\alpha}} +\n",
    "        (1-\\alpha)^2\\frac{e^s}{e^{s\\alpha}}\n",
    "    )\n",
    "\\end{align}\n",
    "$$"
   ]
  },
  {
   "cell_type": "markdown",
   "metadata": {
    "deletable": true,
    "editable": true
   },
   "source": [
    "Because $0 < \\alpha < 1$:\n",
    "* $\\alpha^2$ is always positive\n",
    "* $(1-\\alpha)^2$ is always positive\n",
    "\n",
    "$e^x$ is also always positive for any $x \\in \\mathbb{R}$\n",
    "\n",
    "Therefore $V''(s)$ is always positive for any $s \\in \\mathbb{R}$.\n",
    "\n",
    "Therefore $V(s)$ is minimum at $s=ln(\\frac{\\alpha}{1-\\alpha})$."
   ]
  }
 ],
 "metadata": {
  "kernelspec": {
   "display_name": "Python 3",
   "language": "python",
   "name": "python3"
  },
  "language_info": {
   "codemirror_mode": {
    "name": "ipython",
    "version": 3
   },
   "file_extension": ".py",
   "mimetype": "text/x-python",
   "name": "python",
   "nbconvert_exporter": "python",
   "pygments_lexer": "ipython3",
   "version": "3.5.3"
  }
 },
 "nbformat": 4,
 "nbformat_minor": 2
}
