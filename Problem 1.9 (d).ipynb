{
 "cells": [
  {
   "cell_type": "markdown",
   "metadata": {
    "deletable": true,
    "editable": true
   },
   "source": [
    "$$\n",
    "\\begin{align}\n",
    "\\mathbb{E}(u) && = && \\mathbb{P}[u=0] \\cdot 0 + \\mathbb{P}[u=1] \\cdot 1 \\\\\n",
    "              && = && \\frac{1}{2} \\cdot 0 + \\frac{1}{2} \\cdot 1 \\\\\n",
    "              && = && 0 + \\frac{1}{2} \\\\\n",
    "              && = && \\frac{1}{2} \\\\\n",
    "\\end{align}\n",
    "$$"
   ]
  },
  {
   "cell_type": "markdown",
   "metadata": {
    "deletable": true,
    "editable": true
   },
   "source": [
    "Therefore\n",
    "$$\n",
    "\\begin{align}\n",
    "\\mathbb{E}(u) + 0 && < && \\mathbb{E}(u) + \\epsilon && < && \\mathbb{E}(u) + \\frac{1}{2} \\\\\n",
    "  \\frac{1}{2} + 0 && < && \\mathbb{E}(u) + \\epsilon && < && \\frac{1}{2} + \\frac{1}{2} \\\\\n",
    "      \\frac{1}{2} && < && \\mathbb{E}(u) + \\epsilon && < && 1 \\\\\n",
    "    \\Rightarrow 0 && < && \\mathbb{E}(u) + \\epsilon && < && 1 \\\\\n",
    "\\end{align}\n",
    "$$\n",
    "\n",
    "So the results in (c) still apply by setting $\\alpha = \\mathbb{E}(u) + \\epsilon$."
   ]
  },
  {
   "cell_type": "markdown",
   "metadata": {
    "deletable": true,
    "editable": true
   },
   "source": [
    "In (c), we found $e^{-s\\alpha}U(s)$ to be minimum at $s=\\ln{\\frac{\\alpha}{1-\\alpha}}$. We want to keep it that way, so that we can minimize $\\mathbb{P}[u \\geq \\alpha ]$:\n",
    "\n",
    "$$\n",
    "\\begin{align}\n",
    "V(s) && = && \\frac{1}{2}(\\frac{1}{e^{s\\alpha}}+\\frac{e^s}{e^{s\\alpha}}) \\\\\n",
    "     && = && \\frac{1}{2}(\\frac{1}{e^{\\alpha\\ln{\\frac{\\alpha}{1-\\alpha}}}}+\\frac{e^{\\ln{\\frac{\\alpha}{1-\\alpha}}}}{e^{\\alpha\\ln{\\frac{\\alpha}{1-\\alpha}}}}) \\\\\n",
    "     && = && \\frac{1}{2}(\n",
    "         \\frac\n",
    "             {1}\n",
    "             {\n",
    "                 (e^{\\ln{\n",
    "                     \\frac{\\alpha}{1-\\alpha}\n",
    "                 }})^\\alpha\n",
    "             } +\n",
    "         \\frac\n",
    "             {e^{\\ln{\n",
    "                 \\frac{\\alpha}{1-\\alpha}\n",
    "             }}}\n",
    "             {\n",
    "                 (e^{\\ln{\n",
    "                     \\frac{\\alpha}{1-\\alpha}\n",
    "                 }})^\\alpha\n",
    "             }\n",
    "     ) \\\\\n",
    "     && = && \\frac{1}{2}(\n",
    "         \\frac\n",
    "             {1}\n",
    "             {\n",
    "                 (\\frac{\\alpha}{1-\\alpha})^\\alpha\n",
    "             } +\n",
    "         \\frac\n",
    "             {\\frac{\\alpha}{1-\\alpha}}\n",
    "             {\n",
    "                 (\\frac{\\alpha}{1-\\alpha})^\\alpha\n",
    "             }\n",
    "     ) \\\\\n",
    "     && = && \\frac{1}{2}(\n",
    "         (\\frac{1-\\alpha}{\\alpha})^\\alpha +\n",
    "         \\frac\n",
    "             {\\alpha(1-\\alpha)^\\alpha}\n",
    "             {(1-\\alpha)\\alpha^\\alpha}\n",
    "     ) \\\\\n",
    "     && = && \\frac{1}{2}(\n",
    "         (1+\\frac{\\alpha}{1-\\alpha})(\\frac{1-\\alpha}{\\alpha})^\\alpha\n",
    "     ) \\\\\n",
    "     && = && \\frac{1}{2}(\n",
    "         (\\frac{1-\\alpha}{1-\\alpha}+\\frac{\\alpha}{1-\\alpha})(\\frac{1-\\alpha}{\\alpha})^\\alpha\n",
    "     ) \\\\\n",
    "     && = && \\frac{1}{2}(\n",
    "         \\frac{1}{1-\\alpha}(\\frac{1-\\alpha}{\\alpha})^\\alpha\n",
    "     )\n",
    "\\end{align}\n",
    "$$"
   ]
  },
  {
   "cell_type": "markdown",
   "metadata": {},
   "source": [
    "Now we replace $\\alpha$ with $\\mathbb{E}(u)+\\epsilon$:\n",
    "\n",
    "$$\n",
    "\\begin{align}\n",
    "V(s) && = && 2^{-1}(\\frac{1}{1-(\\mathbb{E}(u)+\\epsilon)}(\\frac{1-(\\mathbb{E}(u)+\\epsilon)}{\\mathbb{E}(u)+\\epsilon})^{\\mathbb{E}(u)+\\epsilon}) \\\\\n",
    "     && = && 2^{-1}(\\frac{1}{1-(\\frac{1}{2}+\\epsilon)}(\\frac{1-(\\frac{1}{2}+\\epsilon)}{\\frac{1}{2}+\\epsilon})^{\\frac{1}{2}+\\epsilon}) \\\\\n",
    "     && = && 2^{-1}(\\frac{1}{\\frac{1}{2}-\\epsilon}(\\frac{\\frac{1}{2}-\\epsilon}{\\frac{1}{2}+\\epsilon})^{\\frac{1}{2}+\\epsilon}) \\\\\n",
    "     && = && 2^{-1}\n",
    "         (\n",
    "           2^{-log_2{(\\frac{1}{2}-\\epsilon)}}\n",
    "           (2^{log_2{(\\frac{1}{2}-\\epsilon)}-log_2{(\\frac{1}{2}+\\epsilon)}})\n",
    "           ^{\\frac{1}{2}+\\epsilon}\n",
    "         ) \\\\\n",
    "     && = && 2^{-1}\n",
    "         (\n",
    "           2^{-log_2{(\\frac{1}{2}-\\epsilon)}}\n",
    "           (2^{(\\frac{1}{2}+\\epsilon)log_2{(\\frac{1}{2}-\\epsilon)}-(\\frac{1}{2}+\\epsilon)log_2{(\\frac{1}{2}+\\epsilon)}})\n",
    "         ) \\\\\n",
    "     && = && 2^{-1}\n",
    "         (\n",
    "             2^{\n",
    "                 -log_2{(\\frac{1}{2}-\\epsilon)} +\n",
    "                 (\\frac{1}{2}+\\epsilon)log_2{(\\frac{1}{2} - \\epsilon)} - \n",
    "                 (\\frac{1}{2}+\\epsilon)log_2{(\\frac{1}{2} + \\epsilon)}\n",
    "             }\n",
    "         ) \\\\\n",
    "     && = && 2^{-1}\n",
    "         (\n",
    "             2^{\n",
    "                 (\\frac{1}{2}+\\epsilon - 1)log_2{(\\frac{1}{2} - \\epsilon)} - \n",
    "                 (\\frac{1}{2}+\\epsilon)log_2{(\\frac{1}{2} + \\epsilon)}\n",
    "             }\n",
    "         ) \\\\\n",
    "     && = && 2^{-1}\n",
    "         (\n",
    "             2^{\n",
    "                 (-\\frac{1}{2}+\\epsilon)log_2{(\\frac{1}{2} - \\epsilon)} - \n",
    "                 (\\frac{1}{2}+\\epsilon)log_2{(\\frac{1}{2} + \\epsilon)}\n",
    "             }\n",
    "         ) \\\\\n",
    "     && = && 2^{-1}\n",
    "         (\n",
    "             2^{\n",
    "                 -(\\frac{1}{2}-\\epsilon)log_2{(\\frac{1}{2} - \\epsilon)} - \n",
    "                 (\\frac{1}{2}+\\epsilon)log_2{(\\frac{1}{2} + \\epsilon)}\n",
    "             }\n",
    "         ) \\\\\n",
    "     && = && 2^{-1\n",
    "                 -(\\frac{1}{2}-\\epsilon)log_2{(\\frac{1}{2} - \\epsilon)} - \n",
    "                 (\\frac{1}{2}+\\epsilon)log_2{(\\frac{1}{2} + \\epsilon)}\n",
    "         } \\\\\n",
    "     && = && 2^{-(1\n",
    "                 +(\\frac{1}{2}-\\epsilon)log_2{(\\frac{1}{2} - \\epsilon)} + \n",
    "                 (\\frac{1}{2}+\\epsilon)log_2{(\\frac{1}{2} + \\epsilon)}\n",
    "         )} \\\\\n",
    "     && = && 2^{-\\beta}\n",
    "\\end{align}\n",
    "$$"
   ]
  },
  {
   "cell_type": "markdown",
   "metadata": {},
   "source": [
    "And so\n",
    "\n",
    "$$\n",
    "\\begin{align}\n",
    "\\mathbb{P}[u \\geq \\mathbb{E}(u) + \\epsilon] && \\leq && V(s)^N \\\\\n",
    "                                            && \\leq && (2^{-\\beta})^N \\\\\n",
    "                                            && \\leq && 2^{-\\beta{}N}\n",
    "\\end{align}\n",
    "$$"
   ]
  },
  {
   "cell_type": "markdown",
   "metadata": {},
   "source": [
    "Now we need need to demonstrate that $\\beta \\gt 0$."
   ]
  }
 ],
 "metadata": {
  "kernelspec": {
   "display_name": "Python 3",
   "language": "python",
   "name": "python3"
  },
  "language_info": {
   "codemirror_mode": {
    "name": "ipython",
    "version": 3
   },
   "file_extension": ".py",
   "mimetype": "text/x-python",
   "name": "python",
   "nbconvert_exporter": "python",
   "pygments_lexer": "ipython3",
   "version": "3.5.3"
  }
 },
 "nbformat": 4,
 "nbformat_minor": 2
}
